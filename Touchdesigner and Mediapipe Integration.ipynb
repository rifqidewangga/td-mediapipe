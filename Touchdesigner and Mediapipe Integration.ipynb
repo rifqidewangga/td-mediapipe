{
 "cells": [
  {
   "cell_type": "markdown",
   "id": "71cb948f",
   "metadata": {},
   "source": [
    "# Touchdesigner and Mediapipe Integration\n",
    "This documentation is a walkthrough to setting up mediapipe and integrate it with touchdesigner.\n",
    "\n",
    "## Requirements\n",
    "1. __[Touchdesigner 64-Bit Build 2021.16410](https://derivative.ca/download)__\n",
    "2. __[Python 3.7.2](https://www.python.org/downloads/release/python-372/)__\n",
    "\n",
    "\n",
    "## Installing Mediapipe and Touchdesign\n",
    "1. Open command prompt and enter following command\n",
    "```bash\n",
    "pip install mediapipe\n",
    "```\n"
   ]
  },
  {
   "cell_type": "code",
   "execution_count": 3,
   "id": "77e7b47e",
   "metadata": {},
   "outputs": [
    {
     "name": "stdout",
     "output_type": "stream",
     "text": [
      "Hello World\n"
     ]
    }
   ],
   "source": [
    "print('Hello World')"
   ]
  },
  {
   "cell_type": "code",
   "execution_count": null,
   "id": "41fd99c2",
   "metadata": {},
   "outputs": [],
   "source": []
  },
  {
   "cell_type": "code",
   "execution_count": null,
   "id": "cc702429",
   "metadata": {},
   "outputs": [],
   "source": []
  }
 ],
 "metadata": {
  "kernelspec": {
   "display_name": "Python 3 (ipykernel)",
   "language": "python",
   "name": "python3"
  },
  "language_info": {
   "codemirror_mode": {
    "name": "ipython",
    "version": 3
   },
   "file_extension": ".py",
   "mimetype": "text/x-python",
   "name": "python",
   "nbconvert_exporter": "python",
   "pygments_lexer": "ipython3",
   "version": "3.7.2"
  }
 },
 "nbformat": 4,
 "nbformat_minor": 5
}
